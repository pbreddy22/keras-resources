{
  "nbformat": 4,
  "nbformat_minor": 0,
  "metadata": {
    "colab": {
      "name": "Keras_2",
      "version": "0.3.2",
      "provenance": [],
      "collapsed_sections": [],
      "toc_visible": true,
      "include_colab_link": true
    },
    "kernelspec": {
      "name": "python3",
      "display_name": "Python 3"
    }
  },
  "cells": [
    {
      "cell_type": "markdown",
      "metadata": {
        "id": "view-in-github",
        "colab_type": "text"
      },
      "source": [
        "<a href=\"https://colab.research.google.com/github/pbreddy22/keras-resources/blob/master/Keras_2.ipynb\" target=\"_parent\"><img src=\"https://colab.research.google.com/assets/colab-badge.svg\" alt=\"Open In Colab\"/></a>"
      ]
    },
    {
      "metadata": {
        "id": "8P47j882o55M",
        "colab_type": "code",
        "colab": {
          "base_uri": "https://localhost:8080/",
          "height": 34
        },
        "outputId": "072cd47c-f8d1-4d00-9426-0e2a5e3c7810"
      },
      "cell_type": "code",
      "source": [
        "print(\"Introduction to Keras\")"
      ],
      "execution_count": 1,
      "outputs": [
        {
          "output_type": "stream",
          "text": [
            "Introduction to Keras\n"
          ],
          "name": "stdout"
        }
      ]
    },
    {
      "metadata": {
        "colab_type": "code",
        "outputId": "20d6686f-5078-4df9-cac8-0d3c2fda6b7f",
        "id": "nqRMrF4Z2BlM",
        "colab": {
          "base_uri": "https://localhost:8080/",
          "height": 85
        }
      },
      "cell_type": "code",
      "source": [
        "#data prep\n",
        "import numpy.random as nprnd\n",
        "import timeit\n",
        "X = nprnd.randint(1000, size=1000)\n",
        "X_train = X[:700]\n",
        "X_test = X[700:]\n",
        "Y_train = [ int(x>500) for x in X_train]\n",
        "Y_test = [ int(x>500) for x in X_test]\n",
        "\n",
        "print(X_train[1:15])\n",
        "print(Y_train[1:15])\n",
        "print(len(Y_train))\n",
        "print(len(Y_test))\n"
      ],
      "execution_count": 2,
      "outputs": [
        {
          "output_type": "stream",
          "text": [
            "[831 613 387 447 121 384 897 436  96  43 914  77  47 624]\n",
            "[1, 1, 0, 0, 0, 0, 1, 0, 0, 0, 1, 0, 0, 1]\n",
            "700\n",
            "300\n"
          ],
          "name": "stdout"
        }
      ]
    },
    {
      "metadata": {
        "id": "AixKeO-LqdTg",
        "colab_type": "code",
        "colab": {
          "base_uri": "https://localhost:8080/",
          "height": 204
        },
        "outputId": "98b22988-5131-4730-fbdf-e7d3255255ef"
      },
      "cell_type": "code",
      "source": [
        "from keras.models import Sequential\n",
        "from keras.layers.core import Dense, Activation\n",
        "model = Sequential()\n",
        "model.add(Dense(2, input_dim=1, kernel_initializer='RandomNormal', activation='relu'))\n",
        "model.add(Dense(1, input_dim=2, activation='relu',kernel_initializer='RandomNormal'))\n",
        "model.compile(loss='binary_crossentropy', metrics=['accuracy'], optimizer='sgd')\n",
        "model.summary()"
      ],
      "execution_count": 10,
      "outputs": [
        {
          "output_type": "stream",
          "text": [
            "_________________________________________________________________\n",
            "Layer (type)                 Output Shape              Param #   \n",
            "=================================================================\n",
            "dense_3 (Dense)              (None, 2)                 4         \n",
            "_________________________________________________________________\n",
            "dense_4 (Dense)              (None, 1)                 3         \n",
            "=================================================================\n",
            "Total params: 7\n",
            "Trainable params: 7\n",
            "Non-trainable params: 0\n",
            "_________________________________________________________________\n"
          ],
          "name": "stdout"
        }
      ]
    },
    {
      "metadata": {
        "id": "csSysOKbujAx",
        "colab_type": "code",
        "colab": {
          "base_uri": "https://localhost:8080/",
          "height": 51
        },
        "outputId": "36df67b0-d8d6-4ab5-83d3-66beb1f53ab3"
      },
      "cell_type": "code",
      "source": [
        "history = model.fit(X_train,Y_train)\n"
      ],
      "execution_count": 11,
      "outputs": [
        {
          "output_type": "stream",
          "text": [
            "Epoch 1/1\n",
            "700/700 [==============================] - 0s 280us/step - loss: 8.2893 - acc: 0.4857\n"
          ],
          "name": "stdout"
        }
      ]
    },
    {
      "metadata": {
        "id": "1peDyp3qv6LH",
        "colab_type": "code",
        "colab": {
          "base_uri": "https://localhost:8080/",
          "height": 68
        },
        "outputId": "12b80fd5-6123-49d1-9b19-f259cc805637"
      },
      "cell_type": "code",
      "source": [
        "score = model.evaluate(X_test, Y_test)\n",
        "print(model.metrics_names)\n",
        "print(score)"
      ],
      "execution_count": 12,
      "outputs": [
        {
          "output_type": "stream",
          "text": [
            "300/300 [==============================] - 0s 195us/step\n",
            "['loss', 'acc']\n",
            "[8.97240655263265, 0.4433333337306976]\n"
          ],
          "name": "stdout"
        }
      ]
    },
    {
      "metadata": {
        "id": "prRC8kR86Er9",
        "colab_type": "code",
        "colab": {
          "base_uri": "https://localhost:8080/",
          "height": 34
        },
        "outputId": "696c7878-3897-431d-d54e-a82e02036ea9"
      },
      "cell_type": "code",
      "source": [
        "print(model.metrics_names)"
      ],
      "execution_count": 6,
      "outputs": [
        {
          "output_type": "stream",
          "text": [
            "['loss', 'acc']\n"
          ],
          "name": "stdout"
        }
      ]
    },
    {
      "metadata": {
        "id": "UMSJB4uJ1wBu",
        "colab_type": "code",
        "colab": {
          "base_uri": "https://localhost:8080/",
          "height": 102
        },
        "outputId": "ba04b241-fe3b-42aa-bb65-2d27a4acbe4a"
      },
      "cell_type": "code",
      "source": [
        "#print(score)\n",
        "for layer in model.layers:\n",
        "    print(layer)\n",
        "    weights = layer.get_weights() # list of numpy arrays\n",
        "    print(weights)"
      ],
      "execution_count": 13,
      "outputs": [
        {
          "output_type": "stream",
          "text": [
            "<keras.layers.core.Dense object at 0x7f6e8909cef0>\n",
            "[array([[-0.04639638, -0.00089819]], dtype=float32), array([0., 0.], dtype=float32)]\n",
            "<keras.layers.core.Dense object at 0x7f6e8909ceb8>\n",
            "[array([[0.01473012],\n",
            "       [0.05166934]], dtype=float32), array([0.], dtype=float32)]\n"
          ],
          "name": "stdout"
        }
      ]
    },
    {
      "metadata": {
        "id": "XVQ6an0R10Ub",
        "colab_type": "code",
        "colab": {}
      },
      "cell_type": "code",
      "source": [
        "from keras.utils import plot_model\n",
        "plot_model(model, show_shapes=True, to_file='model.png')"
      ],
      "execution_count": 0,
      "outputs": []
    },
    {
      "metadata": {
        "id": "rXSgoXVaRZ5E",
        "colab_type": "code",
        "colab": {
          "base_uri": "https://localhost:8080/",
          "height": 34
        },
        "outputId": "8923b826-af11-4318-d88e-595c1e497416"
      },
      "cell_type": "code",
      "source": [
        "import os\n",
        "os.getcwd()"
      ],
      "execution_count": 9,
      "outputs": [
        {
          "output_type": "execute_result",
          "data": {
            "text/plain": [
              "'/content'"
            ]
          },
          "metadata": {
            "tags": []
          },
          "execution_count": 9
        }
      ]
    },
    {
      "metadata": {
        "id": "M19caCnqRkWb",
        "colab_type": "text"
      },
      "cell_type": "markdown",
      "source": [
        "# New Section"
      ]
    },
    {
      "metadata": {
        "id": "b13A9D6LRqei",
        "colab_type": "text"
      },
      "cell_type": "markdown",
      "source": [
        "# New Section"
      ]
    },
    {
      "metadata": {
        "id": "r7WXTypyKiDZ",
        "colab_type": "code",
        "colab": {}
      },
      "cell_type": "code",
      "source": [
        ""
      ],
      "execution_count": 0,
      "outputs": []
    }
  ]
}